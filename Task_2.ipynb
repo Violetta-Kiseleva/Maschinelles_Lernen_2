{
 "cells": [
  {
   "cell_type": "markdown",
   "metadata": {},
   "source": [
    "# Задание 2. Обучение модели. \n",
    "\n",
    "Требуется обучить модель на основе SVM для распознавания рукописных цифр из набора MNIST. \n",
    "\n",
    "Набор данных MNIST можно загрузить из пакета keras.  \n",
    "\n",
    "В качестве модели применяется LinearSVC. В качестве вектора признаков можно взять линеаризованное изображение, значения элементов от 0 (черный) до 1 (белый). \n",
    "\n",
    "Результатом второго задания является записная книжка Python с подготовкой данных, процессом обучения, ручной проверкой качества распознавания на нескольких образцах и расчётом confusion matrix.  "
   ]
  },
  {
   "cell_type": "markdown",
   "metadata": {},
   "source": [
    "1) Загружаем данные. "
   ]
  },
  {
   "cell_type": "code",
   "execution_count": 1,
   "metadata": {},
   "outputs": [],
   "source": [
    "import numpy as np\n",
    "import keras\n",
    "import matplotlib.pyplot as plt\n",
    "from random import randint \n",
    "\n",
    "#загрузка MNIST\n",
    "from keras.datasets import mnist \n",
    "from sklearn.model_selection import train_test_split\n",
    "\n",
    "# x_train, y_train - обучающая выборка (для обучение модели на основе SVC)\n",
    "# test_x, test_y - тестовая выборка (для тестирования уже обученной модели)\n",
    "(x_train, y_train), (test_x, test_y) = mnist.load_data()\n",
    "\n",
    "# копия тестового набора для ручной проверки\n",
    "copy_test_x = test_x "
   ]
  },
  {
   "cell_type": "markdown",
   "metadata": {},
   "source": [
    "2) Подготовливаем данные.  \n",
    "\n",
    "Отобразим элемент в качестве входных данных. "
   ]
  },
  {
   "cell_type": "code",
   "execution_count": 2,
   "metadata": {},
   "outputs": [
    {
     "data": {
      "image/png": "[encoded data removed]",
      "text/plain": [
       "<Figure size 432x288 with 1 Axes>"
      ]
     },
     "metadata": {
      "needs_background": "light"
     },
     "output_type": "display_data"
    }
   ],
   "source": [
    "plt.figure()\n",
    "i = randint(0,1000)\n",
    "plt.imshow(x_train[i], cmap = plt.cm.binary)\n",
    "plt.show()"
   ]
  },
  {
   "cell_type": "markdown",
   "metadata": {},
   "source": [
    "В наборе имеют образцы 28 на 28 пикселей, следовательно переведём матрицу этого размера в вектор из 784 элементов "
   ]
  },
  {
   "cell_type": "code",
   "execution_count": 3,
   "metadata": {},
   "outputs": [],
   "source": [
    "num_pixels = x_train.shape[1] * x_train.shape[2]\n",
    "\n",
    "# преобразование в float32\n",
    "x_train, test_x = np.array(x_train, np.float32), np.array(test_x, np.float32)\n",
    "\n",
    "# перевод матрицы в вектор\n",
    "x_train, test_x = x_train.reshape([-1, 784]), test_x.reshape([-1, 784])\n",
    "\n",
    "# нормализуем входные данные в [0,1]\n",
    "# значение пикселя от 0 до 255\n",
    "x_train = x_train / 255\n",
    "test_x = test_x / 255"
   ]
  },
  {
   "cell_type": "markdown",
   "metadata": {},
   "source": [
    "3) Начинаем обучать. \n",
    "\n",
    "Используем SVM - метод опорных элементов."
   ]
  },
  {
   "cell_type": "code",
   "execution_count": 4,
   "metadata": {},
   "outputs": [
    {
     "data": {
      "text/plain": [
       "LinearSVC(max_iter=100000)"
      ]
     },
     "execution_count": 4,
     "metadata": {},
     "output_type": "execute_result"
    }
   ],
   "source": [
    "import sklearn.svm as svm\n",
    "from sklearn.svm import LinearSVC\n",
    "svm_model = svm.LinearSVC(dual = True,max_iter=100000)\n",
    "svm_model.fit(x_train,y_train) "
   ]
  },
  {
   "cell_type": "markdown",
   "metadata": {},
   "source": [
    "4) Теперь проверим несколько образцов из данного набора. "
   ]
  },
  {
   "cell_type": "code",
   "execution_count": 7,
   "metadata": {},
   "outputs": [
    {
     "name": "stdout",
     "output_type": "stream",
     "text": [
      "Проверка качества распознавания на образцах\n",
      "---- Первый образец ---------------\n",
      "Образец из тестовой выборки:   1\n",
      "Образец из предсказывания:   1\n"
     ]
    },
    {
     "data": {
      "image/png": "[encoded data removed]",
      "text/plain": [
       "<Figure size 432x288 with 1 Axes>"
      ]
     },
     "metadata": {},
     "output_type": "display_data"
    },
    {
     "name": "stdout",
     "output_type": "stream",
     "text": [
      "---- Второй образец ---------------\n",
      "Образец из тестовой выборки:  2\n",
      "Образец из предсказывания:  2\n"
     ]
    },
    {
     "data": {
      "image/png": "[encoded data removed]",
      "text/plain": [
       "<Figure size 432x288 with 1 Axes>"
      ]
     },
     "metadata": {},
     "output_type": "display_data"
    },
    {
     "name": "stdout",
     "output_type": "stream",
     "text": [
      "---- Третий образец ---------------\n",
      "Образец из тестовой выборки:  6\n",
      "Образец из предсказывания:  6\n"
     ]
    },
    {
     "data": {
      "image/png": "[encoded data removed]",
      "text/plain": [
       "<Figure size 432x288 with 1 Axes>"
      ]
     },
     "metadata": {},
     "output_type": "display_data"
    }
   ],
   "source": [
    "y_predict = svm_model.predict(test_x) \n",
    "\n",
    "plt.figure()\n",
    "i1 = randint(0, 100)\n",
    "i2 = randint(101, 1000)\n",
    "i3 = randint(1001, 9999)\n",
    "print(\"Проверка качества распознавания на образцах\")\n",
    "\n",
    "# ПЕРВЫЙ ОБРАЗЕЦ\n",
    "print(\"---- Первый образец ---------------\")\n",
    "print(\"Образец из тестовой выборки:  \", test_y[i1])\n",
    "print(\"Образец из предсказывания:  \", y_predict[i1])\n",
    "plt.xticks([])\n",
    "plt.yticks([])\n",
    "\n",
    "# отображение изображения из тестовой выборки\n",
    "plt.imshow(copy_test_x[i1], cmap = plt.cm.binary) \n",
    "plt.show()\n",
    "\n",
    "\n",
    "\n",
    "# ВТОРОЙ ОБРАЗЕЦ\n",
    "print(\"---- Второй образец ---------------\")\n",
    "print(\"Образец из тестовой выборки: \", test_y[i2])\n",
    "print(\"Образец из предсказывания: \", y_predict[i2])\n",
    "plt.xticks([])\n",
    "plt.yticks([])\n",
    "\n",
    "# отображение изображения из тестовой выборки\n",
    "plt.imshow(copy_test_x[i2], cmap = plt.cm.binary) \n",
    "plt.show() \n",
    "\n",
    "\n",
    "# ТРЕТИЙ ОБРАЗЕЦ\n",
    "print(\"---- Третий образец ---------------\")\n",
    "print(\"Образец из тестовой выборки: \", test_y[i3])\n",
    "print(\"Образец из предсказывания: \", y_predict[i3])\n",
    "plt.xticks([])\n",
    "plt.yticks([])\n",
    "\n",
    "# отображение изображения из тестовой выборки\n",
    "plt.imshow(copy_test_x[i3], cmap = plt.cm.binary) \n",
    "plt.show()"
   ]
  },
  {
   "cell_type": "markdown",
   "metadata": {},
   "source": [
    "5) Расчёт confusion matrix.  \n",
    "Confusion matrix (матрица неточностей) — это таблица или диаграмма, показывающая точность прогнозирования классификатора в отношении двух и более классов. Прогнозы классификатора находятся на оси X, а результат (точность) — на оси Y."
   ]
  },
  {
   "cell_type": "code",
   "execution_count": 6,
   "metadata": {},
   "outputs": [
    {
     "data": {
      "text/plain": [
       "<sklearn.metrics._plot.confusion_matrix.ConfusionMatrixDisplay at 0x284cabb0040>"
      ]
     },
     "execution_count": 6,
     "metadata": {},
     "output_type": "execute_result"
    },
    {
     "data": {
      "image/png": "[encoded data removed]",
      "text/plain": [
       "<Figure size 432x288 with 2 Axes>"
      ]
     },
     "metadata": {
      "needs_background": "light"
     },
     "output_type": "display_data"
    }
   ],
   "source": [
    "from sklearn.metrics import plot_confusion_matrix\n",
    "plot_confusion_matrix(svm_model, test_x, test_y, cmap=plt.cm.YlGn)"
   ]
  },
  {
   "cell_type": "code",
   "execution_count": null,
   "metadata": {},
   "outputs": [],
   "source": []
  }
 ],
 "metadata": {
  "kernelspec": {
   "display_name": "Python 3",
   "language": "python",
   "name": "python3"
  },
  "language_info": {
   "codemirror_mode": {
    "name": "ipython",
    "version": 3
   },
   "file_extension": ".py",
   "mimetype": "text/x-python",
   "name": "python",
   "nbconvert_exporter": "python",
   "pygments_lexer": "ipython3",
   "version": "3.8.5"
  }
 },
 "nbformat": 4,
 "nbformat_minor": 4
}
